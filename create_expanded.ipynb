{
 "cells": [
  {
   "cell_type": "code",
   "execution_count": 12,
   "metadata": {},
   "outputs": [],
   "source": [
    "########## Loading Packages ##########\n",
    "import numpy as np\n",
    "import pandas as pd\n",
    "from plotnine import *\n",
    "from pandas.io.json import json_normalize\n",
    "import json"
   ]
  },
  {
   "cell_type": "code",
   "execution_count": 135,
   "metadata": {},
   "outputs": [],
   "source": [
    "########## Loading Ted Data ##########\n",
    "ted = pd.read_csv('ted_full.csv')"
   ]
  },
  {
   "cell_type": "code",
   "execution_count": 136,
   "metadata": {},
   "outputs": [],
   "source": [
    "########## Initializing New Columns ##########\n",
    "##### ratings #####\n",
    "for i in range(14):\n",
    "    ted.loc[:, 'category_{}'.format(i)] = np.nan\n",
    "for i in range(14):\n",
    "    ted.loc[:, 'category_{}_count'.format(i)] = np.nan\n",
    "    \n",
    "##### related_talks #####\n",
    "for i in range(6):\n",
    "    ted.loc[:, 'related_speaker_{}'.format(i)] = np.nan\n",
    "for i in range(6):\n",
    "    ted.loc[:, 'related_title_{}'.format(i)] = np.nan\n",
    "for i in range(6):\n",
    "    ted.loc[:, 'related_slug_{}'.format(i)] = np.nan\n",
    "for i in range(6):\n",
    "    ted.loc[:, 'related_view_count_{}'.format(i)] = np.nan"
   ]
  },
  {
   "cell_type": "code",
   "execution_count": 140,
   "metadata": {},
   "outputs": [],
   "source": [
    "########## Filling New Columns with JSON Data ##########\n",
    "\"\"\" Taking JSON columns 'ratings', 'related_talks', and 'tags' and break them up into separate columns \"\"\"\n",
    "\n",
    "##### ratings #####\n",
    "for i in range(ted.shape[0]):\n",
    "    row = ted['ratings'][i]\n",
    "    df = pd.DataFrame.from_dict(eval(row)).sort_values(by = 'count', ascending = False)\n",
    "    ted.loc[i, 'category_0':'category_13_count'] = np.concatenate([df['name'].values, df['count'].values])\n",
    "    \n",
    "##### related_talks #####\n",
    "for i in range(ted.shape[0]):\n",
    "    row = ted['related_talks'][i]\n",
    "    df = pd.DataFrame.from_dict(eval(row))\n",
    "    shape = df.shape[0]\n",
    "    if shape == 6:\n",
    "        ted.loc[i, 'related_speaker_0':'related_view_count_5'] = np.concatenate(\n",
    "            [df['speaker'].values, df['title'].values, df['slug'].values, df['viewed_count'].values])\n",
    "    else:\n",
    "        fill = np.empty(6 - shape)\n",
    "        fill[:] = np.nan\n",
    "        ted.loc[i, 'related_speaker_0':'related_view_count_5'] = np.concatenate(\n",
    "            [df['speaker'].values, fill, \n",
    "             df['title'].values, fill,\n",
    "             df['slug'].values, fill, \n",
    "             df['viewed_count'].values, fill])\n",
    "        \n",
    "##### tags #####\n",
    "tags = ted['tags'].str.replace('[', '').str.replace(']', '').str.strip().str.split(expand = True)\n",
    "tags.columns = ['tag_{}'.format(i) for i in range(38)]\n",
    "ted = pd.concat([ted, tags], axis = 1)"
   ]
  },
  {
   "cell_type": "code",
   "execution_count": 234,
   "metadata": {},
   "outputs": [],
   "source": [
    "########## Saving Data ##########\n",
    "# ted.to_csv('ted_expanded.csv', index = False)"
   ]
  },
  {
   "cell_type": "code",
   "execution_count": null,
   "metadata": {},
   "outputs": [],
   "source": []
  }
 ],
 "metadata": {
  "kernelspec": {
   "display_name": "Python 3",
   "language": "python",
   "name": "python3"
  },
  "language_info": {
   "codemirror_mode": {
    "name": "ipython",
    "version": 3
   },
   "file_extension": ".py",
   "mimetype": "text/x-python",
   "name": "python",
   "nbconvert_exporter": "python",
   "pygments_lexer": "ipython3",
   "version": "3.7.6"
  }
 },
 "nbformat": 4,
 "nbformat_minor": 4
}

{
 "cells": [
  {
   "cell_type": "code",
   "execution_count": 1,
   "metadata": {},
   "outputs": [
    {
     "name": "stderr",
     "output_type": "stream",
     "text": [
      "unable to import 'smart_open.gcs', disabling that module\n"
     ]
    }
   ],
   "source": [
    "import pandas as pd\n",
    "import numpy as np\n",
    "from plotnine import *\n",
    "from sklearn.model_selection import train_test_split\n",
    "import gensim\n",
    "from gensim.utils import simple_preprocess\n",
    "from gensim.parsing.preprocessing import STOPWORDS\n",
    "from nltk.stem import WordNetLemmatizer, SnowballStemmer\n",
    "from nltk.stem.porter import *\n",
    "import string\n",
    "from nltk.tokenize import word_tokenize\n",
    "from nltk.corpus import stopwords"
   ]
  },
  {
   "cell_type": "code",
   "execution_count": 65,
   "metadata": {},
   "outputs": [],
   "source": [
    "ted = pd.read_csv('data/ted_expanded.csv')\n",
    "ted = ted.drop(list(ted.loc[ted['transcript'].isna() == True].index))"
   ]
  },
  {
   "cell_type": "code",
   "execution_count": 66,
   "metadata": {},
   "outputs": [],
   "source": [
    "ted.loc[:, 'laugh_count'] = ted['transcript'].str.count(\"(Laughter)\")\n",
    "ted.loc[:, 'applause_count'] = ted['transcript'].str.count(\"(Applause)\")\n",
    "ted.loc[:, 'days_since_publish'] = ((pd.to_datetime(['2017-09-25']).astype(int) / 10**9) - ted['published_date']) / (60 * 60 * 24)\n",
    "ted.loc[:, 'lifetime_virality'] = ted['views'] / ted['days_since_publish']\n",
    "ted.loc[:, 'super_popular'] = 0\n",
    "ted.loc[ted['views'] > 4000000, 'super_popular'] = 1\n",
    "ted.loc[ted['speaker_occupation'].str.contains('Artist|artist') == True, 'speaker_occupation'] = \"Artist\"\n",
    "ted.loc[ted['speaker_occupation'].str.contains('Author|author|Writer|writer') == True, 'speaker_occupation'] = \"Writer\"\n",
    "ted.loc[ted['speaker_occupation'].isin(small_occupations) == True, 'speaker_occupation'] = \"Other\"\n",
    "# ted['transcript'] = (ted['transcript'].str.replace(\"\\\\'\", \"\")\n",
    "#                      .str.replace(\"\\(Laughter\\)\", \" \")\n",
    "#                      .str.replace(\"\\(Applause\\)\", \" \")\n",
    "#                      .str.lower()\n",
    "#                      .str.translate(str.maketrans('()—', ' '*len('()—')))\n",
    "#                      .str.translate(str.maketrans('', '', string.punctuation))\n",
    "#                      .str.translate(str.maketrans('', '', string.digits)))"
   ]
  },
  {
   "cell_type": "code",
   "execution_count": 28,
   "metadata": {},
   "outputs": [],
   "source": [
    "# transcripts = (ted['transcript'].apply(word_tokenize)\n",
    "#                                 .apply(\n",
    "#                                     lambda x: [item for item in x if item not in stopwords.words('english')]\n",
    "#                                 ))"
   ]
  },
  {
   "cell_type": "code",
   "execution_count": 67,
   "metadata": {},
   "outputs": [],
   "source": [
    "sifted = ['description', 'duration', 'event', 'main_speaker', 'name', 'speaker_occupation',\n",
    "          'title', 'transcript', 'laugh_count', 'applause_count', 'days_since_publish', 'super_popular']\n",
    "ted = ted[sifted]"
   ]
  },
  {
   "cell_type": "code",
   "execution_count": 68,
   "metadata": {},
   "outputs": [],
   "source": [
    "train = ted.loc[ted['days_since_publish'] > 250]\n",
    "test = ted.loc[ted['days_since_publish'] <= 250]"
   ]
  },
  {
   "cell_type": "code",
   "execution_count": 69,
   "metadata": {},
   "outputs": [],
   "source": [
    "X_train, X_valid, y_train, y_valid = train_test_split(\n",
    "    train.drop(['super_popular'], axis = 1), train[['super_popular']], \n",
    "    test_size = 0.2, random_state = 42)"
   ]
  },
  {
   "cell_type": "code",
   "execution_count": null,
   "metadata": {},
   "outputs": [],
   "source": []
  },
  {
   "cell_type": "code",
   "execution_count": null,
   "metadata": {},
   "outputs": [],
   "source": []
  },
  {
   "cell_type": "code",
   "execution_count": null,
   "metadata": {},
   "outputs": [],
   "source": []
  },
  {
   "cell_type": "code",
   "execution_count": null,
   "metadata": {},
   "outputs": [],
   "source": []
  },
  {
   "cell_type": "code",
   "execution_count": null,
   "metadata": {},
   "outputs": [],
   "source": []
  }
 ],
 "metadata": {
  "kernelspec": {
   "display_name": "Python 3",
   "language": "python",
   "name": "python3"
  },
  "language_info": {
   "codemirror_mode": {
    "name": "ipython",
    "version": 3
   },
   "file_extension": ".py",
   "mimetype": "text/x-python",
   "name": "python",
   "nbconvert_exporter": "python",
   "pygments_lexer": "ipython3",
   "version": "3.7.6"
  }
 },
 "nbformat": 4,
 "nbformat_minor": 4
}
